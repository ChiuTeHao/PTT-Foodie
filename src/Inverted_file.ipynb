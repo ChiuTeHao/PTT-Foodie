{
 "cells": [
  {
   "cell_type": "code",
   "execution_count": 1,
   "metadata": {},
   "outputs": [
    {
     "name": "stdout",
     "output_type": "stream",
     "text": [
      "-------------------------------------------------------\n",
      "Loading the inverted file from path: ../data/inverted_file.json\n",
      "length of inverted file: 428536\n",
      "Loading finished.\n"
     ]
    }
   ],
   "source": [
    "import numpy as np\n",
    "import json\n",
    "import re\n",
    "import jieba\n",
    "from collections import Counter\n",
    "\n",
    "class IF():\n",
    "    def __init__(self, path='../data/Food-2010-7010.json'):\n",
    "        self.path = path\n",
    "        with open(self.path, 'r') as f:\n",
    "            content = json.loads(f.read(), encoding='utf-8')['articles']\n",
    "        self.content = [content[i] for i in range(len(content)) if \"article_id\" in content[i]]\n",
    "        self.id_list = [self.content[i][\"article_id\"] for i in range(len(self.content))]\n",
    "        self.title_list = [self.content[i][\"article_title\"] for i in range(len(self.content))]\n",
    "        assert(len(self.id_list) == len(self.title_list) == len(self.content))\n",
    "        self.num_of_docs = len(self.id_list)  #99745 docs\n",
    "    \n",
    "    def clean_data(self):\n",
    "        self.inverted_file = {}\n",
    "        for i in range(self.num_of_docs):\n",
    "            if not self.title_list[i] or '[食記]' not in self.title_list[i]:\n",
    "                continue\n",
    "            content_cnt = Counter()\n",
    "            _id = self.id_list[i]\n",
    "            char = '[a-zA-ZＡ-Ｚ0-9’!\"#$%&\\'()*+,-./:;<=>?@，。?：；（）★、…【】《》？“”‘’！[\\\\]^_`{|}~]+'\n",
    "            split_sen = [mini_sen for mini_sen in re.sub(char, ' ', self.content[i][\"content\"]).split() if mini_sen]\n",
    "            bigram_list = []\n",
    "            for mini_sen in split_sen:\n",
    "                for words in list(jieba.cut(mini_sen)):\n",
    "                    if len(words) <= 2: bigram_list.append(words)\n",
    "                    else:\n",
    "                        for j in range(len(words)-1):\n",
    "                            sub = ''.join(words[j:j+2])\n",
    "                            bigram_list.append(sub)\n",
    "            content_cnt.update(bigram_list)\n",
    "            for (word, freq) in content_cnt.items():\n",
    "                if word not in self.inverted_file:\n",
    "                    self.inverted_file[word] = []\n",
    "                self.inverted_file[word].append({_id: freq})\n",
    "            \n",
    "            ''' for debugging\n",
    "            print(split_sen, len(split_sen))\n",
    "            print(content_cnt)\n",
    "            print('-----------------------')\n",
    "            '''\n",
    "        \n",
    "        print('Totally {} words in the inverted file.'.format(len(self.inverted_file)))\n",
    "\n",
    "    def save_to_json(self):\n",
    "        outfile = '../data/inverted_file.json'\n",
    "        print('Write {} words into the inverted file'.format(len(self.inverted_file)))\n",
    "        s = json.dumps(self.inverted_file, ensure_ascii=False, separators=(',\\n',':'))\n",
    "        \n",
    "        with open(outfile, 'w', encoding='utf-8') as f:\n",
    "            f.write(s)\n",
    "        print('Finish writing to json file.')\n",
    "        \n",
    "    def load_inverted_file(self, if_path='../data/inverted_file.json'):\n",
    "        \n",
    "        print('-------------------------------------------------------')\n",
    "        print('Loading the inverted file from path: {}'.format(if_path))\n",
    "        with open(if_path, 'r') as f:\n",
    "            inverted_file = json.loads(f.read(), encoding='utf-8')\n",
    "        print('length of inverted file: {}'.format(len(inverted_file)))\n",
    "        print('Loading finished.')\n",
    "\n",
    "data = IF()\n",
    "#data.clean_data()\n",
    "#data.save_to_json()\n",
    "data.load_inverted_file()"
   ]
  },
  {
   "cell_type": "code",
   "execution_count": null,
   "metadata": {},
   "outputs": [],
   "source": []
  },
  {
   "cell_type": "code",
   "execution_count": null,
   "metadata": {},
   "outputs": [],
   "source": []
  }
 ],
 "metadata": {
  "kernelspec": {
   "display_name": "Python 3",
   "language": "python",
   "name": "python3"
  },
  "language_info": {
   "codemirror_mode": {
    "name": "ipython",
    "version": 3
   },
   "file_extension": ".py",
   "mimetype": "text/x-python",
   "name": "python",
   "nbconvert_exporter": "python",
   "pygments_lexer": "ipython3",
   "version": "3.5.2"
  }
 },
 "nbformat": 4,
 "nbformat_minor": 2
}
